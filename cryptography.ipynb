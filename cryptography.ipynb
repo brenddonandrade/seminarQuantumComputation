{
 "cells": [
  {
   "cell_type": "markdown",
   "id": "5a2b4918",
   "metadata": {},
   "source": [
    "## Symmetric Key Cryptography"
   ]
  },
  {
   "cell_type": "markdown",
   "id": "dece84e0",
   "metadata": {},
   "source": [
    "### Modern Cryptography - Block Cipher"
   ]
  },
  {
   "cell_type": "code",
   "execution_count": 20,
   "id": "5ee44880",
   "metadata": {},
   "outputs": [
    {
     "name": "stdout",
     "output_type": "stream",
     "text": [
      "Texto original: Mensagem de Alice: Encontro secreto às 21h na doca 5.\n",
      "Texto após encode: b'Mensagem de Alice: Encontro secreto \\xc3\\xa0s 21h na doca 5.'\n",
      "Texto criptografado: gAAAAABoa80LbxqhHmYKlE46fe9Dttcqj1qZWaNXTp4O9UjxvKWCGj3fWEAdk6scx7g8yRWX62CtS65nY_VRZLlG28IMJv7lmly_N4qOa4IHH1bacV-uBekuXvzrSf0MA9X9CujuETSMThmXK9Y2i6Zs1RkpV-1dPA==\n",
      "\n",
      "[!!!] Chave secreta deixada de forma insegura: r8RcHFXjt6fUiICU9PDwgKSh_Ep8MbfavHd_GDzUByE=\n",
      "Texto recebido por Bob após a descriptografia: Mensagem de Alice: Encontro secreto às 21h na doca 5.\n",
      "Texto visualizado pelo espião após a descriptografia: Mensagem de Alice: Encontro secreto às 21h na doca 5.\n"
     ]
    }
   ],
   "source": [
    "from cryptography.fernet import Fernet\n",
    "\n",
    "# GERANDO UMA CHAVE (normalmente você salvaria em um lugar seguro!)\n",
    "key = Fernet.generate_key()\n",
    "cipher_suite = Fernet(key)\n",
    "\n",
    "# TEXTO ORIGINAL\n",
    "mensagem = \"Mensagem de Alice: Encontro secreto às 21h na doca 5.\"\n",
    "print(\"Texto original:\", mensagem)\n",
    "\n",
    "# CRIPTOGRAFANDO\n",
    "mensagem_bytes = mensagem.encode()\n",
    "print(\"Texto após encode:\", mensagem_bytes)\n",
    "\n",
    "mensagem_criptografada = cipher_suite.encrypt(mensagem_bytes)\n",
    "print(\"Texto criptografado:\", mensagem_criptografada.decode())\n",
    "\n",
    "# DEIXANDO FÁCIL PARA UM ESPIÃO ROUBAR\n",
    "print(\"\\n[!!!] Chave secreta deixada de forma insegura:\", key.decode())\n",
    "\n",
    "# ESPIÃO CAPTUROU A CHAVE\n",
    "captured_key = Fernet(key)\n",
    "\n",
    "# DESCRIPTOGRAFANDO\n",
    "mensagem_descriptografada = cipher_suite.decrypt(mensagem_criptografada).decode()\n",
    "print(\"Texto recebido por Bob após a descriptografia:\", mensagem_descriptografada)\n",
    "\n",
    "# DESCRIPTOGRAFANDO\n",
    "mensagem_descriptografada_espiao = captured_key.decrypt(mensagem_criptografada).decode()\n",
    "print(\"Texto visualizado pelo espião após a descriptografia:\", mensagem_descriptografada)\n",
    "\n"
   ]
  },
  {
   "cell_type": "markdown",
   "id": "70f8242f",
   "metadata": {},
   "source": [
    "### Modern Cryptography - Stream Cipher"
   ]
  },
  {
   "cell_type": "code",
   "execution_count": 27,
   "id": "432ab77b",
   "metadata": {},
   "outputs": [
    {
     "name": "stdout",
     "output_type": "stream",
     "text": [
      "Texto original: Mensagem de Alice: Encontro secreto às 21h na doca 5.\n",
      "Texto criptografado: b'\\xcd\\x16\\xd2\\xca^C\\xa5\\xcb\\xb9\\xb8JhiW\\xbePR\\xce\\xda\\xa1\\x94Q\\xc3\\x0b\\xc7\\xac[\\xd8\\x9d\\xde\\rDRkO\\xcd\\xd6%\\xbc\\xb2D\\x15\\xf3\\x11\\xad\\xc6\\xa2(2\\xcb\\x90hF@'\n",
      "Texto após descriptografia: Mensagem de Alice: Encontro secreto às 21h na doca 5.\n"
     ]
    }
   ],
   "source": [
    "from cryptography.hazmat.primitives.ciphers import Cipher, algorithms\n",
    "from cryptography.hazmat.backends import default_backend\n",
    "import os\n",
    "\n",
    "# Geração de chave de 32 bytes para ChaCha20\n",
    "key = os.urandom(32)\n",
    "\n",
    "# Nonce (número único para cada operação)\n",
    "nonce = os.urandom(16)\n",
    "\n",
    "# Texto original\n",
    "mensagem = \"Mensagem de Alice: Encontro secreto às 21h na doca 5.\"\n",
    "mensagem = mensagem.encode()\n",
    "print(\"Texto original:\", mensagem.decode())\n",
    "\n",
    "# Configurando o algoritmo ChaCha20\n",
    "algoritmo = algorithms.ChaCha20(key, nonce)\n",
    "cipher = Cipher(algoritmo, mode=None, backend=default_backend())\n",
    "encryptor = cipher.encryptor()\n",
    "\n",
    "# Criptografando\n",
    "mensagem_criptografada = encryptor.update(mensagem)\n",
    "print(\"Texto criptografado:\", mensagem_criptografada)\n",
    "\n",
    "# Simulando o espião capturando a chave\n",
    "algoritmo_espiao = algorithms.ChaCha20(key, nonce)\n",
    "cipher_espiao = Cipher(algoritmo_espiao, mode=None, backend=default_backend())\n",
    "decryptor = cipher_espiao.decryptor()\n",
    "\n",
    "# Descriptografando\n",
    "mensagem_descriptografada = decryptor.update(mensagem_criptografada)\n",
    "print(\"Texto após descriptografia:\", mensagem_descriptografada.decode())\n"
   ]
  },
  {
   "cell_type": "markdown",
   "id": "c72ad4e2",
   "metadata": {},
   "source": [
    "### Classifical Cryptography - Substitution Cipher"
   ]
  },
  {
   "cell_type": "code",
   "execution_count": 28,
   "id": "1c405bc0",
   "metadata": {},
   "outputs": [
    {
     "name": "stdout",
     "output_type": "stream",
     "text": [
      "Texto original: MENSAGEM DE ALICE: ENCONTRO SECRETO ÀS 21H NA DOCA 5.\n",
      "Chave de substituição: {'A': 'A', 'C': 'C', 'D': 'T', 'E': 'N', 'G': 'S', 'H': 'M', 'I': 'I', 'L': 'L', 'M': 'G', 'N': 'O', 'O': 'H', 'R': 'D', 'S': 'E', 'T': 'À', 'À': 'R'}\n",
      "Texto criptografado: GNOEASNG TN ALICN: NOCHOÀDH ENCDNÀH RE 21M OA THCA 5.\n",
      "Texto descriptografado: MENSAGEM DE ALICE: ENCONTRO SECRETO ÀS 21H NA DOCA 5.\n"
     ]
    }
   ],
   "source": [
    "import string\n",
    "import random\n",
    "\n",
    "# Texto original\n",
    "mensagem = \"Mensagem de Alice: Encontro secreto às 21h na doca 5.\".upper()\n",
    "print(\"Texto original:\", mensagem)\n",
    "\n",
    "# Criando alfabeto e chave aleatória\n",
    "alfabeto = string.ascii_uppercase + \"ÁÀÂÃÉÊÍÓÔÕÚÇ\"\n",
    "letras_validas = [c for c in mensagem if c in alfabeto]\n",
    "alfabeto_ajustado = ''.join(sorted(set(letras_validas)))\n",
    "substituicao = list(alfabeto_ajustado)\n",
    "random.shuffle(substituicao)\n",
    "chave = dict(zip(alfabeto_ajustado, substituicao))\n",
    "print(\"Chave de substituição:\", chave)\n",
    "\n",
    "# Criptografando\n",
    "mensagem_criptografada = ''\n",
    "for c in mensagem:\n",
    "    if c in chave:\n",
    "        mensagem_criptografada += chave[c]\n",
    "    else:\n",
    "        mensagem_criptografada += c\n",
    "\n",
    "print(\"Texto criptografado:\", mensagem_criptografada)\n",
    "\n",
    "# Descriptografando\n",
    "chave_invertida = {v: k for k, v in chave.items()}\n",
    "mensagem_descriptografada = ''\n",
    "for c in mensagem_criptografada:\n",
    "    if c in chave_invertida:\n",
    "        mensagem_descriptografada += chave_invertida[c]\n",
    "    else:\n",
    "        mensagem_descriptografada += c\n",
    "\n",
    "print(\"Texto descriptografado:\", mensagem_descriptografada)\n"
   ]
  },
  {
   "cell_type": "markdown",
   "id": "474ef90d",
   "metadata": {},
   "source": [
    "### Classifical Cryptography - Substitution Cipher"
   ]
  },
  {
   "cell_type": "code",
   "execution_count": 29,
   "id": "370851b7",
   "metadata": {},
   "outputs": [
    {
     "name": "stdout",
     "output_type": "stream",
     "text": [
      "Texto criptografado: GINR1AEDEOOAALOC2CNENSADECTEH5SACESOMMERTN\n",
      "Texto descriptografado: MENSAGEMDEALICEENCONTROSECRETOAS21HNADOCA5\n"
     ]
    }
   ],
   "source": [
    "import math\n",
    "\n",
    "def criptografar_transposicao(texto, chave):\n",
    "    texto = texto.replace(\" \", \"\").upper()\n",
    "    colunas = len(chave)\n",
    "    linhas = math.ceil(len(texto) / colunas)\n",
    "    matriz = [['' for _ in range(colunas)] for _ in range(linhas)]\n",
    "\n",
    "    index = 0\n",
    "    for i in range(linhas):\n",
    "        for j in range(colunas):\n",
    "            if index < len(texto):\n",
    "                matriz[i][j] = texto[index]\n",
    "                index += 1\n",
    "\n",
    "    ordem_chave = sorted([(letra, i) for i, letra in enumerate(chave)])\n",
    "    texto_criptografado = ''\n",
    "    for letra, col in ordem_chave:\n",
    "        for linha in matriz:\n",
    "            texto_criptografado += linha[col]\n",
    "\n",
    "    return texto_criptografado\n",
    "\n",
    "def descriptografar_transposicao(texto_criptografado, chave):\n",
    "    colunas = len(chave)\n",
    "    linhas = math.ceil(len(texto_criptografado) / colunas)\n",
    "    matriz = [['' for _ in range(colunas)] for _ in range(linhas)]\n",
    "\n",
    "    ordem_chave = sorted([(letra, i) for i, letra in enumerate(chave)])\n",
    "    index = 0\n",
    "    for letra, col in ordem_chave:\n",
    "        for linha in range(linhas):\n",
    "            if index < len(texto_criptografado):\n",
    "                matriz[linha][col] = texto_criptografado[index]\n",
    "                index += 1\n",
    "\n",
    "    texto_original = ''\n",
    "    for i in range(linhas):\n",
    "        for j in range(colunas):\n",
    "            if matriz[i][j]:\n",
    "                texto_original += matriz[i][j]\n",
    "\n",
    "    return texto_original\n",
    "\n",
    "# Mensagem e chave\n",
    "mensagem = \"MENSAGEMDEALICEENCONTROSECRETOAS21HNADOCA5\"\n",
    "chave = \"SEGREDO\"\n",
    "\n",
    "# Criptografando\n",
    "criptografado = criptografar_transposicao(mensagem, chave)\n",
    "print(\"Texto criptografado:\", criptografado)\n",
    "\n",
    "# Descriptografando\n",
    "descriptografado = descriptografar_transposicao(criptografado, chave)\n",
    "print(\"Texto descriptografado:\", descriptografado)\n"
   ]
  },
  {
   "cell_type": "markdown",
   "id": "3298067e",
   "metadata": {},
   "source": [
    "## Asymmetric Key Cryptography"
   ]
  },
  {
   "cell_type": "code",
   "execution_count": 23,
   "id": "c9ea54f1",
   "metadata": {},
   "outputs": [
    {
     "name": "stdout",
     "output_type": "stream",
     "text": [
      "Texto original: Mensagem de Alice: Encontro secreto às 21h na doca 5.\n",
      "Texto após encode: b'Mensagem de Alice: Encontro secreto \\xc3\\xa0s 21h na doca 5.'\n",
      "Texto criptografado: 1bf5302f34ef1aa3a4fe2cb29ffde7e05060bc49b7abad78e498c62807fcadb5a6b057db22dd347e58a0c72af335c463dda78675e97383422688d08360058bfb770d87b4da349e40a39e35d821ee95a5c191ce867bf2841e07ac9877d10888a18b67cabb250ede562b93e360cbfb0c5b14b62aeb6977d7e4ec281d2653b4db4268299f8225fb1ab88a5ebe414c0a0f4caadcc39141216d9589938e967d3dfa6abd89aabc5121aa2109d3f27906e94c03a9f5949e0d2ae9c6e44bf39bf11869d1a8924904d99d5d296ae8f1482e793a774ef382a68793f82504f20edb825a42291a9e18daa3633fbd01374c8515962b745d6667a58f48bfb04bfc728a0272478a\n",
      "\n",
      "[!!!] Chave pública vazada (espião pode ver isso):\n",
      " -----BEGIN PUBLIC KEY-----\n",
      "MIIBIjANBgkqhkiG9w0BAQEFAAOCAQ8AMIIBCgKCAQEAwJLSmsmXvYn7QJFPe9C+\n",
      "PLYuhNEc7nB0f2z/y0fH+VY/zCL28htb2nSJoG85EXXA0vFud7a2p0ABgB0UzxB6\n",
      "5PTK+0rAx4v68qzVhvJhdhQBkgK2h3pkb0jj0s2UU2pfx9TXx43MBygdqrLBNtHB\n",
      "wPC3vHHoaeejMV2DKfcNhN/JTOg6f/WBHbh97hALb11POG1hwSFUhg11OQaLGhKV\n",
      "hJtU/1xhcxE/gQbTmwI7rpcItKgJDgBkGyGhaKu6FNkWD0pAJ19Oe3W79xA/9lOp\n",
      "BxoeKvioa13tN8s/v5nGoZGF8gfmSsFTSJoEVIn2GhlB/e06qwxgu5lw+/CY56aA\n",
      "uQIDAQAB\n",
      "-----END PUBLIC KEY-----\n",
      "\n",
      "\n",
      "Espião tentando descriptografar com a chave pública...\n",
      "⚠️ Falha! O espião não consegue descriptografar: 'cryptography.hazmat.bindings._rust.openssl.rsa.RSA' object has no attribute 'decrypt'\n",
      "\n",
      "Texto recebido por Bob após a descriptografia: Mensagem de Alice: Encontro secreto às 21h na doca 5.\n"
     ]
    }
   ],
   "source": [
    "from cryptography.hazmat.primitives.asymmetric import rsa, padding\n",
    "from cryptography.hazmat.primitives import serialization, hashes\n",
    "\n",
    "# GERANDO PAR DE CHAVES\n",
    "private_key = rsa.generate_private_key(public_exponent=65537, key_size=2048)\n",
    "public_key = private_key.public_key()\n",
    "\n",
    "# TEXTO ORIGINAL\n",
    "mensagem = \"Mensagem de Alice: Encontro secreto às 21h na doca 5.\"\n",
    "print(\"Texto original:\", mensagem)\n",
    "\n",
    "# CRIPTOGRAFANDO COM A CHAVE PÚBLICA\n",
    "mensagem_bytes = mensagem.encode()\n",
    "print(\"Texto após encode:\", mensagem_bytes)\n",
    "\n",
    "mensagem_criptografada = public_key.encrypt(\n",
    "    mensagem_bytes,\n",
    "    padding.OAEP(\n",
    "        mgf=padding.MGF1(algorithm=hashes.SHA256()),\n",
    "        algorithm=hashes.SHA256(),\n",
    "        label=None\n",
    "    )\n",
    ")\n",
    "# print(\"Texto criptografado:\", mensagem_criptografada.hex()[:100] + \"...\")  # Truncado para visualização\n",
    "print(\"Texto criptografado:\", mensagem_criptografada.hex())  # Truncado para visualização\n",
    "\n",
    "# DEIXANDO A CHAVE PÚBLICA VAZADA (MAS ISSO É OK!)\n",
    "public_key_pem = public_key.public_bytes(\n",
    "    encoding=serialization.Encoding.PEM,\n",
    "    format=serialization.PublicFormat.SubjectPublicKeyInfo\n",
    ")\n",
    "print(\"\\n[!!!] Chave pública vazada (espião pode ver isso):\\n\", public_key_pem.decode())\n",
    "\n",
    "# TENTATIVA DO ESPIÃO (só tem a chave pública, não consegue descriptografar)\n",
    "try:\n",
    "    print(\"\\nEspião tentando descriptografar com a chave pública...\")\n",
    "    mensagem_descriptografada_espiao = public_key.decrypt(  # Isso vai gerar erro\n",
    "        mensagem_criptografada,\n",
    "        padding.OAEP(\n",
    "            mgf=padding.MGF1(algorithm=hashes.SHA256()),\n",
    "            algorithm=hashes.SHA256(),\n",
    "            label=None\n",
    "        )\n",
    "    )\n",
    "except Exception as e:\n",
    "    print(\"⚠️ Falha! O espião não consegue descriptografar:\", str(e))\n",
    "\n",
    "# DESCRIPTOGRAFANDO COM A CHAVE PRIVADA\n",
    "mensagem_descriptografada = private_key.decrypt(\n",
    "    mensagem_criptografada,\n",
    "    padding.OAEP(\n",
    "        mgf=padding.MGF1(algorithm=hashes.SHA256()),\n",
    "        algorithm=hashes.SHA256(),\n",
    "        label=None\n",
    "    )\n",
    ")\n",
    "print(\"\\nTexto recebido por Bob após a descriptografia:\", mensagem_descriptografada.decode())\n"
   ]
  },
  {
   "cell_type": "code",
   "execution_count": 25,
   "id": "4b3f7d31",
   "metadata": {},
   "outputs": [
    {
     "name": "stdout",
     "output_type": "stream",
     "text": [
      "Mensagem original:  ENCONTRO SECRETO AS 21H\n",
      "Mensagem criptografada: MAKFEYBP CQUHUDE UB 21M\n"
     ]
    }
   ],
   "source": [
    "import string\n",
    "\n",
    "# Alfabeto e substituições simples (rotores fictícios)\n",
    "alfabeto = string.ascii_uppercase\n",
    "rotor1 = \"EKMFLGDQVZNTOWYHXUSPAIBRCJ\"\n",
    "rotor2 = \"AJDKSIRUXBLHWTMCQGZNPYFVOE\"\n",
    "rotor3 = \"BDFHJLCPRTXVZNYEIWGAKMUSQO\"\n",
    "reflector = dict(zip(alfabeto, alfabeto[::-1]))  # Refletor simples\n",
    "\n",
    "def enigma_simples(mensagem, pos1, pos2, pos3):\n",
    "    resultado = \"\"\n",
    "    for letra in mensagem.upper():\n",
    "        if letra not in alfabeto:\n",
    "            resultado += letra\n",
    "            continue\n",
    "\n",
    "        # Passa pelo rotor 1\n",
    "        idx = (alfabeto.index(letra) + pos1) % 26\n",
    "        l1 = rotor1[idx]\n",
    "\n",
    "        # Passa pelo rotor 2\n",
    "        idx = (alfabeto.index(l1) + pos2) % 26\n",
    "        l2 = rotor2[idx]\n",
    "\n",
    "        # Passa pelo rotor 3\n",
    "        idx = (alfabeto.index(l2) + pos3) % 26\n",
    "        l3 = rotor3[idx]\n",
    "\n",
    "        # Refletor\n",
    "        l4 = reflector[l3]\n",
    "\n",
    "        # Caminho inverso\n",
    "        idx = rotor3.index(l4)\n",
    "        l5 = alfabeto[(idx - pos3) % 26]\n",
    "\n",
    "        idx = rotor2.index(l5)\n",
    "        l6 = alfabeto[(idx - pos2) % 26]\n",
    "\n",
    "        idx = rotor1.index(l6)\n",
    "        l7 = alfabeto[(idx - pos1) % 26]\n",
    "\n",
    "        resultado += l7\n",
    "\n",
    "        # Roda os rotores\n",
    "        pos1 = (pos1 + 1) % 26\n",
    "        if pos1 == 0:\n",
    "            pos2 = (pos2 + 1) % 26\n",
    "            if pos2 == 0:\n",
    "                pos3 = (pos3 + 1) % 26\n",
    "    return resultado\n",
    "\n",
    "# Exemplo de uso\n",
    "mensagem = \"ENCONTRO SECRETO AS 21H\"\n",
    "criptografada = enigma_simples(mensagem, pos1=4, pos2=11, pos3=5)\n",
    "print('Mensagem original: ', mensagem)\n",
    "print(\"Mensagem criptografada:\", criptografada)\n"
   ]
  }
 ],
 "metadata": {
  "kernelspec": {
   "display_name": "env_seminar_cryptography",
   "language": "python",
   "name": "python3"
  },
  "language_info": {
   "codemirror_mode": {
    "name": "ipython",
    "version": 3
   },
   "file_extension": ".py",
   "mimetype": "text/x-python",
   "name": "python",
   "nbconvert_exporter": "python",
   "pygments_lexer": "ipython3",
   "version": "3.10.18"
  }
 },
 "nbformat": 4,
 "nbformat_minor": 5
}
